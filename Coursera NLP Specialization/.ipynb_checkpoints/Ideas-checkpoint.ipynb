{
 "cells": [
  {
   "cell_type": "markdown",
   "id": "edb2a318",
   "metadata": {},
   "source": [
    "# Twitter Bubble Definition - Topic Identification & NER - Places and People\n",
    "https://towardsdatascience.com/topic-modeling-with-bert-779f7db187e6\n",
    "Check on anonymous tab"
   ]
  },
  {
   "cell_type": "markdown",
   "id": "c60db256",
   "metadata": {},
   "source": [
    "# Japanese Chatbot - Also, fix grammar mistakes, rephrases"
   ]
  },
  {
   "cell_type": "markdown",
   "id": "b70dce12",
   "metadata": {},
   "source": [
    "# Music? Music sheets as sequence generators"
   ]
  },
  {
   "cell_type": "code",
   "execution_count": 36,
   "id": "b4b2213a",
   "metadata": {},
   "outputs": [],
   "source": [
    "def get_next_stair_steps(stair_number):\n",
    "    next_steps = []\n",
    "    next_steps.append(stair_number+1)\n",
    "    next_steps.append(stair_number+2)\n",
    "    next_steps.append(stair_number+3)\n",
    "    return next_steps\n",
    "\n",
    "def stepPermsRec(n, stair_number_paths, total_paths):\n",
    "    current_elem = stair_number_paths.pop(0)\n",
    "    next_stair_steps = get_next_stair_steps(current_elem)\n",
    "    \n",
    "    ix_to_delete = []\n",
    "    for ix, next_stair_step in enumerate(next_stair_steps):\n",
    "        if next_stair_step == n:\n",
    "            total_paths += 1\n",
    "            ix_to_delete.append(ix)\n",
    "        if next_stair_step > n:\n",
    "            ix_to_delete.append(ix)\n",
    "            \n",
    "    for ix in sorted(ix_to_delete, reverse=True):\n",
    "        del next_stair_steps[ix]\n",
    "        \n",
    "    for elem in next_stair_steps:\n",
    "        stair_number_paths.append(elem)\n",
    "#     print(f'current_elem {current_elem} stair_number_paths {stair_number_paths} total_paths {total_paths} next_stair_steps {next_stair_steps}')    \n",
    "    if len(stair_number_paths) > 0:\n",
    "        return stepPermsRec(n, stair_number_paths, total_paths)\n",
    "    else:\n",
    "        return total_paths\n",
    "    \n",
    "def stepPerms(n):\n",
    "    return stepPermsRec(n, [0], 0)    "
   ]
  },
  {
   "cell_type": "code",
   "execution_count": 43,
   "id": "e7998a66",
   "metadata": {},
   "outputs": [],
   "source": [
    "from collections import defaultdict\n",
    "\n",
    "a = defaultdict(int)"
   ]
  },
  {
   "cell_type": "code",
   "execution_count": 44,
   "id": "6c00bbce",
   "metadata": {},
   "outputs": [
    {
     "data": {
      "text/plain": [
       "0"
      ]
     },
     "execution_count": 44,
     "metadata": {},
     "output_type": "execute_result"
    }
   ],
   "source": [
    "len(None)"
   ]
  },
  {
   "cell_type": "code",
   "execution_count": 28,
   "id": "07984ec1",
   "metadata": {},
   "outputs": [
    {
     "data": {
      "text/plain": [
       "(1, 2)"
      ]
     },
     "execution_count": 28,
     "metadata": {},
     "output_type": "execute_result"
    }
   ],
   "source": [
    "a = (1,2)\n",
    "b = deque([a])\n",
    "b.popleft()"
   ]
  },
  {
   "cell_type": "code",
   "execution_count": null,
   "id": "383fe10b",
   "metadata": {},
   "outputs": [],
   "source": []
  }
 ],
 "metadata": {
  "kernelspec": {
   "display_name": "Python 3 (ipykernel)",
   "language": "python",
   "name": "python3"
  },
  "language_info": {
   "codemirror_mode": {
    "name": "ipython",
    "version": 3
   },
   "file_extension": ".py",
   "mimetype": "text/x-python",
   "name": "python",
   "nbconvert_exporter": "python",
   "pygments_lexer": "ipython3",
   "version": "3.9.12"
  }
 },
 "nbformat": 4,
 "nbformat_minor": 5
}
